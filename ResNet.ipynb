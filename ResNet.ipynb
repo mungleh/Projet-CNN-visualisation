{
 "cells": [
  {
   "cell_type": "code",
   "execution_count": 1,
   "id": "62c28a21",
   "metadata": {
    "ExecuteTime": {
     "end_time": "2023-05-04T10:22:29.054928Z",
     "start_time": "2023-05-04T10:22:25.827334Z"
    }
   },
   "outputs": [],
   "source": [
    "import pandas as pd\n",
    "import numpy as np\n",
    "import matplotlib.pyplot as plt\n",
    "import seaborn as sns\n",
    "import warnings\n",
    "warnings.filterwarnings('ignore')"
   ]
  },
  {
   "cell_type": "code",
   "execution_count": 2,
   "id": "638abfaf",
   "metadata": {
    "ExecuteTime": {
     "end_time": "2023-05-04T10:22:33.590565Z",
     "start_time": "2023-05-04T10:22:29.063958Z"
    }
   },
   "outputs": [
    {
     "name": "stderr",
     "output_type": "stream",
     "text": [
      "2023-05-04 12:22:29.607489: I tensorflow/tsl/cuda/cudart_stub.cc:28] Could not find cuda drivers on your machine, GPU will not be used.\n",
      "2023-05-04 12:22:29.735816: I tensorflow/tsl/cuda/cudart_stub.cc:28] Could not find cuda drivers on your machine, GPU will not be used.\n",
      "2023-05-04 12:22:29.739007: I tensorflow/core/platform/cpu_feature_guard.cc:182] This TensorFlow binary is optimized to use available CPU instructions in performance-critical operations.\n",
      "To enable the following instructions: AVX2 FMA, in other operations, rebuild TensorFlow with the appropriate compiler flags.\n",
      "2023-05-04 12:22:32.114317: W tensorflow/compiler/tf2tensorrt/utils/py_utils.cc:38] TF-TRT Warning: Could not find TensorRT\n"
     ]
    }
   ],
   "source": [
    "from keras.preprocessing.image import ImageDataGenerator"
   ]
  },
  {
   "cell_type": "code",
   "execution_count": 3,
   "id": "a9845f04",
   "metadata": {
    "ExecuteTime": {
     "end_time": "2023-05-04T10:22:33.989864Z",
     "start_time": "2023-05-04T10:22:33.597215Z"
    }
   },
   "outputs": [],
   "source": [
    "from tensorflow.keras.datasets import mnist\n",
    "from sklearn.model_selection import train_test_split\n",
    "from keras.utils import to_categorical\n",
    "from tensorflow.keras.layers import Dense\n",
    "from tensorflow.keras.models import Sequential\n",
    "from tensorflow.keras.layers import Dropout\n",
    "from tensorflow.keras.layers import Conv2D\n",
    "from tensorflow.keras.layers import MaxPooling2D\n",
    "from tensorflow.keras.layers import Flatten\n",
    "from tensorflow.keras.callbacks import EarlyStopping\n",
    "from tensorflow.keras.layers import BatchNormalization\n",
    "from tensorflow import transpose\n",
    "from keras.utils import np_utils\n",
    "from sklearn.metrics import classification_report\n",
    "from sklearn.metrics import confusion_matrix"
   ]
  },
  {
   "cell_type": "code",
   "execution_count": 4,
   "id": "6278db5d",
   "metadata": {
    "ExecuteTime": {
     "end_time": "2023-05-04T10:22:34.594951Z",
     "start_time": "2023-05-04T10:22:33.998869Z"
    }
   },
   "outputs": [],
   "source": [
    "(X_train,y_train),(X_test,y_test)  = mnist.load_data()"
   ]
  },
  {
   "cell_type": "code",
   "execution_count": 5,
   "id": "efa2f74c",
   "metadata": {
    "ExecuteTime": {
     "end_time": "2023-05-04T10:22:34.639486Z",
     "start_time": "2023-05-04T10:22:34.602356Z"
    }
   },
   "outputs": [
    {
     "data": {
      "text/plain": [
       "((60000, 28, 28), (10000, 28, 28))"
      ]
     },
     "execution_count": 5,
     "metadata": {},
     "output_type": "execute_result"
    }
   ],
   "source": [
    "X_train.shape, X_test.shape"
   ]
  },
  {
   "cell_type": "code",
   "execution_count": 6,
   "id": "96195f60",
   "metadata": {
    "ExecuteTime": {
     "end_time": "2023-05-04T10:22:34.672841Z",
     "start_time": "2023-05-04T10:22:34.647184Z"
    }
   },
   "outputs": [],
   "source": [
    "X_train = X_train.reshape((X_train.shape[0],28,28))\n",
    "X_test = X_test.reshape((X_test.shape[0],28,28))"
   ]
  },
  {
   "cell_type": "code",
   "execution_count": 7,
   "id": "f5a3bda9",
   "metadata": {
    "ExecuteTime": {
     "end_time": "2023-05-04T10:22:35.270931Z",
     "start_time": "2023-05-04T10:22:34.678449Z"
    }
   },
   "outputs": [],
   "source": [
    "X_train = X_train.astype(\"float32\")\n",
    "X_test = X_test.astype(\"float32\")\n",
    "# convert data to 3 channels\n",
    "X_train = np.stack((X_train,)*3,axis =-1)\n",
    "X_test = np.stack((X_test,)*3,axis=-1)"
   ]
  },
  {
   "cell_type": "code",
   "execution_count": 8,
   "id": "87388ab0",
   "metadata": {
    "ExecuteTime": {
     "end_time": "2023-05-04T10:22:35.294596Z",
     "start_time": "2023-05-04T10:22:35.275081Z"
    }
   },
   "outputs": [
    {
     "data": {
      "text/plain": [
       "((60000, 28, 28, 3), (10000, 28, 28, 3))"
      ]
     },
     "execution_count": 8,
     "metadata": {},
     "output_type": "execute_result"
    }
   ],
   "source": [
    "X_train.shape, X_test.shape"
   ]
  },
  {
   "cell_type": "code",
   "execution_count": 9,
   "id": "bab85a08",
   "metadata": {
    "ExecuteTime": {
     "end_time": "2023-05-04T10:22:35.318027Z",
     "start_time": "2023-05-04T10:22:35.307047Z"
    }
   },
   "outputs": [],
   "source": [
    "# Create a data generator for data augmentation\n",
    "datagen = ImageDataGenerator(\n",
    "    rescale = 1./255,\n",
    "    rotation_range=40,      # randomly rotate the images by up to 10 degrees\n",
    "    zoom_range=0.3,         # randomly zoom the images by up to 10%\n",
    "    width_shift_range=0.2,  # randomly shift the images horizontally by up to 10%\n",
    "    height_shift_range=0.15, # randomly shift the images vertically by up to 10%\n",
    "    horizontal_flip=True,   # randomly flip the images horizontally\n",
    "    vertical_flip=False,    # don't randomly flip the images vertically\n",
    "    fill_mode='reflect'     # fill any empty pixels with the nearest value\n",
    ")\n",
    "\n",
    "val_generator = ImageDataGenerator(rescale = 1./255)\n",
    "\n",
    "train_iterator = datagen.flow(X_train,y_train, batch_size = 11000,shuffle = True)\n",
    "\n",
    "val_iterator = val_generator.flow(X_test, y_test, batch_size = 5000,shuffle=False)\n",
    "\n"
   ]
  },
  {
   "cell_type": "code",
   "execution_count": 10,
   "id": "39b3eafd",
   "metadata": {
    "ExecuteTime": {
     "end_time": "2023-05-04T10:22:35.394227Z",
     "start_time": "2023-05-04T10:22:35.360253Z"
    }
   },
   "outputs": [],
   "source": [
    "from tensorflow.keras.applications.resnet50 import ResNet50"
   ]
  },
  {
   "cell_type": "code",
   "execution_count": 11,
   "id": "bb710ad6",
   "metadata": {
    "ExecuteTime": {
     "end_time": "2023-05-04T10:22:40.209700Z",
     "start_time": "2023-05-04T10:22:35.401660Z"
    }
   },
   "outputs": [],
   "source": [
    "model = Sequential()\n",
    "model.add(ResNet50(include_top = False, pooling='avg',weights = \"imagenet\"))\n",
    "model.add(Dense(512, activation  = \"relu\"))\n",
    "model.add(Dense(10, activation = \"softmax\"))\n",
    "\n",
    "model.layers[0].trainable = False"
   ]
  },
  {
   "cell_type": "code",
   "execution_count": 12,
   "id": "1150067e",
   "metadata": {
    "ExecuteTime": {
     "end_time": "2023-05-04T10:22:40.320289Z",
     "start_time": "2023-05-04T10:22:40.215649Z"
    }
   },
   "outputs": [
    {
     "name": "stdout",
     "output_type": "stream",
     "text": [
      "Model: \"sequential\"\n",
      "_________________________________________________________________\n",
      " Layer (type)                Output Shape              Param #   \n",
      "=================================================================\n",
      " resnet50 (Functional)       (None, 2048)              23587712  \n",
      "                                                                 \n",
      " dense (Dense)               (None, 512)               1049088   \n",
      "                                                                 \n",
      " dense_1 (Dense)             (None, 10)                5130      \n",
      "                                                                 \n",
      "=================================================================\n",
      "Total params: 24,641,930\n",
      "Trainable params: 1,054,218\n",
      "Non-trainable params: 23,587,712\n",
      "_________________________________________________________________\n"
     ]
    }
   ],
   "source": [
    "model.summary()"
   ]
  },
  {
   "cell_type": "code",
   "execution_count": 13,
   "id": "3e6f01b7",
   "metadata": {
    "ExecuteTime": {
     "end_time": "2023-05-04T10:22:40.386761Z",
     "start_time": "2023-05-04T10:22:40.333891Z"
    }
   },
   "outputs": [],
   "source": [
    "model.compile(\n",
    "    optimizer='adam',\n",
    "    loss='sparse_categorical_crossentropy',\n",
    "    metrics=['accuracy']\n",
    ")"
   ]
  },
  {
   "cell_type": "code",
   "execution_count": 14,
   "id": "f0ab3022",
   "metadata": {
    "ExecuteTime": {
     "end_time": "2023-05-04T10:55:48.042412Z",
     "start_time": "2023-05-04T10:22:40.392341Z"
    }
   },
   "outputs": [
    {
     "name": "stdout",
     "output_type": "stream",
     "text": [
      "Epoch 1/10\n"
     ]
    },
    {
     "name": "stderr",
     "output_type": "stream",
     "text": [
      "2023-05-04 12:22:48.389708: I tensorflow/core/common_runtime/executor.cc:1197] [/device:CPU:0] (DEBUG INFO) Executor start aborting (this does not indicate an error and you can ignore this message): INVALID_ARGUMENT: You must feed a value for placeholder tensor 'Placeholder/_0' with dtype int32\n",
      "\t [[{{node Placeholder/_0}}]]\n",
      "2023-05-04 12:23:05.622616: W tensorflow/tsl/framework/cpu_allocator_impl.cc:83] Allocation of 720896000 exceeds 10% of free system memory.\n"
     ]
    },
    {
     "name": "stdout",
     "output_type": "stream",
     "text": [
      "\r",
      "1/6 [====>.........................] - ETA: 5:04 - loss: 2.7867 - accuracy: 0.0895"
     ]
    },
    {
     "name": "stderr",
     "output_type": "stream",
     "text": [
      "2023-05-04 12:23:50.774742: W tensorflow/tsl/framework/cpu_allocator_impl.cc:83] Allocation of 720896000 exceeds 10% of free system memory.\n"
     ]
    },
    {
     "name": "stdout",
     "output_type": "stream",
     "text": [
      "3/6 [==============>...............] - ETA: 1:12 - loss: 2.5405 - accuracy: 0.1090"
     ]
    },
    {
     "name": "stderr",
     "output_type": "stream",
     "text": [
      "2023-05-04 12:24:46.002346: W tensorflow/tsl/framework/cpu_allocator_impl.cc:83] Allocation of 720896000 exceeds 10% of free system memory.\n"
     ]
    },
    {
     "name": "stdout",
     "output_type": "stream",
     "text": [
      "\b\b\b\b\b\b\b\b\b\b\b\b\b\b\b\b\b\b\b\b\b\b\b\b\b\b\b\b\b\b\b\b\b\b\b\b\b\b\b\b\b\b\b\b\b\b\b\b\b\b\b\b\b\b\b\b\b\b\b\b\b\b\b\b\b\b\b\b\b\b\b\b\b\b\b\b\b\b\b\b\b\b\r",
      "4/6 [===================>..........] - ETA: 1:01 - loss: 2.5056 - accuracy: 0.1286"
     ]
    },
    {
     "name": "stderr",
     "output_type": "stream",
     "text": [
      "2023-05-04 12:25:23.168046: W tensorflow/tsl/framework/cpu_allocator_impl.cc:83] Allocation of 720896000 exceeds 10% of free system memory.\n"
     ]
    },
    {
     "name": "stdout",
     "output_type": "stream",
     "text": [
      "\b\b\b\b\b\b\b\b\b\b\b\b\b\b\b\b\b\b\b\b\b\b\b\b\b\b\b\b\b\b\b\b\b\b\b\b\b\b\b\b\b\b\b\b\b\b\b\b\b\b\b\b\b\b\b\b\b\b\b\b\b\b\b\b\b\b\b\b\b\b\b\b\b\b\b\b\b\b\b\b\b\b\r",
      "5/6 [========================>.....] - ETA: 32s - loss: 2.4744 - accuracy: 0.1422 "
     ]
    },
    {
     "name": "stderr",
     "output_type": "stream",
     "text": [
      "2023-05-04 12:26:01.049125: W tensorflow/tsl/framework/cpu_allocator_impl.cc:83] Allocation of 720896000 exceeds 10% of free system memory.\n"
     ]
    },
    {
     "name": "stdout",
     "output_type": "stream",
     "text": [
      "\b\b\b\b\b\b\b\b\b\b\b\b\b\b\b\b\b\b\b\b\b\b\b\b\b\b\b\b\b\b\b\b\b\b\b\b\b\b\b\b\b\b\b\b\b\b\b\b\b\b\b\b\b\b\b\b\b\b\b\b\b\b\b\b\b\b\b\b\b\b\b\b\b\b\b\b\b\b\b\b\b\r",
      "6/6 [==============================] - ETA: 0s - loss: 2.4355 - accuracy: 0.1508 "
     ]
    },
    {
     "name": "stderr",
     "output_type": "stream",
     "text": [
      "2023-05-04 12:26:30.184317: I tensorflow/core/common_runtime/executor.cc:1197] [/device:CPU:0] (DEBUG INFO) Executor start aborting (this does not indicate an error and you can ignore this message): INVALID_ARGUMENT: You must feed a value for placeholder tensor 'Placeholder/_0' with dtype int32\n",
      "\t [[{{node Placeholder/_0}}]]\n"
     ]
    },
    {
     "name": "stdout",
     "output_type": "stream",
     "text": [
      "6/6 [==============================] - 265s 41s/step - loss: 2.4355 - accuracy: 0.1508 - val_loss: 2.1249 - val_accuracy: 0.2703\n",
      "Epoch 2/10\n",
      "6/6 [==============================] - 237s 39s/step - loss: 2.1652 - accuracy: 0.2199 - val_loss: 1.9760 - val_accuracy: 0.4343\n",
      "Epoch 3/10\n",
      "6/6 [==============================] - 181s 33s/step - loss: 2.0531 - accuracy: 0.2708 - val_loss: 1.8475 - val_accuracy: 0.3959\n",
      "Epoch 4/10\n",
      "6/6 [==============================] - 183s 30s/step - loss: 1.9856 - accuracy: 0.3120 - val_loss: 1.7771 - val_accuracy: 0.4869\n",
      "Epoch 5/10\n",
      "6/6 [==============================] - 189s 30s/step - loss: 1.9280 - accuracy: 0.3368 - val_loss: 1.6797 - val_accuracy: 0.4690\n",
      "Epoch 6/10\n",
      "6/6 [==============================] - 180s 29s/step - loss: 1.8791 - accuracy: 0.3531 - val_loss: 1.6265 - val_accuracy: 0.5256\n",
      "Epoch 7/10\n",
      "6/6 [==============================] - 171s 28s/step - loss: 1.8432 - accuracy: 0.3677 - val_loss: 1.5579 - val_accuracy: 0.5368\n",
      "Epoch 8/10\n",
      "6/6 [==============================] - 172s 28s/step - loss: 1.8030 - accuracy: 0.3861 - val_loss: 1.5309 - val_accuracy: 0.5676\n",
      "Epoch 9/10\n",
      "6/6 [==============================] - 173s 28s/step - loss: 1.7737 - accuracy: 0.3950 - val_loss: 1.4663 - val_accuracy: 0.5855\n",
      "Epoch 10/10\n",
      "6/6 [==============================] - 175s 28s/step - loss: 1.7436 - accuracy: 0.4047 - val_loss: 1.4372 - val_accuracy: 0.5905\n"
     ]
    }
   ],
   "source": [
    "# Train the model with 20 epochs\n",
    "history = model.fit(train_iterator,\n",
    "    epochs=10,\n",
    "    validation_data=val_iterator\n",
    ")"
   ]
  },
  {
   "cell_type": "code",
   "execution_count": 15,
   "id": "1eb59e0d",
   "metadata": {
    "ExecuteTime": {
     "end_time": "2023-05-04T10:55:55.284879Z",
     "start_time": "2023-05-04T10:55:49.239114Z"
    }
   },
   "outputs": [],
   "source": [
    "# generate a batch of augmented data\n",
    "X_augmented_train, y_augmented_train = next(train_iterator)\n",
    "\n",
    "# concatenate the augmented data with the original training data\n",
    "X_train = np.concatenate((X_train, X_augmented_train))\n",
    "y_train = np.concatenate((y_train, y_augmented_train))"
   ]
  },
  {
   "cell_type": "code",
   "execution_count": 16,
   "id": "ec247ae5",
   "metadata": {
    "ExecuteTime": {
     "end_time": "2023-05-04T10:55:55.690486Z",
     "start_time": "2023-05-04T10:55:55.413929Z"
    }
   },
   "outputs": [],
   "source": [
    "# generate a batch of augmented data\n",
    "X_augmented_test, y_augmented_test = next(val_iterator)\n",
    "\n",
    "# concatenate the augmented data with the original training data\n",
    "X_test = np.concatenate((X_test, X_augmented_test))\n",
    "y_test = np.concatenate((y_test, y_augmented_test))"
   ]
  },
  {
   "cell_type": "code",
   "execution_count": 17,
   "id": "f35e0af2",
   "metadata": {
    "ExecuteTime": {
     "end_time": "2023-05-04T10:56:40.499176Z",
     "start_time": "2023-05-04T10:55:55.801212Z"
    }
   },
   "outputs": [
    {
     "name": "stdout",
     "output_type": "stream",
     "text": [
      "469/469 [==============================] - 45s 95ms/step - loss: 12.5145 - accuracy: 0.2732\n"
     ]
    }
   ],
   "source": [
    "test_loss, test_acc = model.evaluate(X_test, y_test)"
   ]
  },
  {
   "cell_type": "code",
   "execution_count": 18,
   "id": "9b1686b8",
   "metadata": {
    "ExecuteTime": {
     "end_time": "2023-05-04T10:57:27.581891Z",
     "start_time": "2023-05-04T10:56:40.627082Z"
    }
   },
   "outputs": [
    {
     "name": "stdout",
     "output_type": "stream",
     "text": [
      "469/469 [==============================] - 47s 97ms/step\n"
     ]
    }
   ],
   "source": [
    "y_pred = model.predict(X_test)"
   ]
  },
  {
   "cell_type": "code",
   "execution_count": 19,
   "id": "2d071019",
   "metadata": {
    "ExecuteTime": {
     "end_time": "2023-05-04T10:57:27.713808Z",
     "start_time": "2023-05-04T10:57:27.707489Z"
    }
   },
   "outputs": [],
   "source": [
    "y_pred_classes = np.argmax(y_pred, axis = 1)"
   ]
  },
  {
   "cell_type": "code",
   "execution_count": 20,
   "id": "23e6efbc",
   "metadata": {
    "ExecuteTime": {
     "end_time": "2023-05-04T10:57:27.857107Z",
     "start_time": "2023-05-04T10:57:27.850875Z"
    }
   },
   "outputs": [],
   "source": [
    "y_true = y_test.astype(int).tolist()"
   ]
  },
  {
   "cell_type": "code",
   "execution_count": 21,
   "id": "5186a0ec",
   "metadata": {
    "ExecuteTime": {
     "end_time": "2023-05-04T10:57:28.050638Z",
     "start_time": "2023-05-04T10:57:27.992488Z"
    }
   },
   "outputs": [
    {
     "name": "stdout",
     "output_type": "stream",
     "text": [
      "              precision    recall  f1-score   support\n",
      "\n",
      "           0       0.13      0.96      0.23      1440\n",
      "           1       0.82      0.50      0.62      1706\n",
      "           2       0.51      0.22      0.31      1562\n",
      "           3       0.57      0.21      0.30      1510\n",
      "           4       0.70      0.04      0.08      1482\n",
      "           5       0.37      0.01      0.03      1348\n",
      "           6       0.70      0.16      0.27      1420\n",
      "           7       0.58      0.23      0.33      1540\n",
      "           8       0.44      0.11      0.18      1463\n",
      "           9       0.49      0.23      0.32      1529\n",
      "\n",
      "    accuracy                           0.27     15000\n",
      "   macro avg       0.53      0.27      0.27     15000\n",
      "weighted avg       0.54      0.27      0.28     15000\n",
      "\n"
     ]
    }
   ],
   "source": [
    "confusion = confusion_matrix(y_true, y_pred_classes)\n",
    "print(classification_report(y_true, y_pred_classes))"
   ]
  },
  {
   "cell_type": "code",
   "execution_count": 22,
   "id": "6e56dc72",
   "metadata": {
    "ExecuteTime": {
     "end_time": "2023-05-04T10:57:28.524200Z",
     "start_time": "2023-05-04T10:57:28.191889Z"
    }
   },
   "outputs": [
    {
     "name": "stdout",
     "output_type": "stream",
     "text": [
      "dict_keys(['loss', 'accuracy', 'val_loss', 'val_accuracy'])\n"
     ]
    },
    {
     "data": {
      "image/png": "[encoded data removed]",
      "text/plain": [
       "<Figure size 640x480 with 1 Axes>"
      ]
     },
     "metadata": {},
     "output_type": "display_data"
    }
   ],
   "source": [
    "# list all data in history\n",
    "print(history.history.keys())\n",
    "# summarize history for accuracy\n",
    "plt.plot(history.history['accuracy'])\n",
    "plt.plot(history.history['val_accuracy'])\n",
    "plt.title('model accuracy')\n",
    "plt.ylabel('accuracy')\n",
    "plt.xlabel('epoch')\n",
    "plt.legend(['train', 'test'], loc='upper left')\n",
    "plt.show()"
   ]
  },
  {
   "cell_type": "code",
   "execution_count": 23,
   "id": "c0de9faf",
   "metadata": {
    "ExecuteTime": {
     "end_time": "2023-05-04T10:57:29.175970Z",
     "start_time": "2023-05-04T10:57:28.657005Z"
    }
   },
   "outputs": [],
   "source": [
    "# Save the entire model to a HDF5 file\n",
    "model.save(\"modail_resnet.h5\")"
   ]
  }
 ],
 "metadata": {
  "kernelspec": {
   "display_name": "Python 3 (ipykernel)",
   "language": "python",
   "name": "python3"
  },
  "language_info": {
   "codemirror_mode": {
    "name": "ipython",
    "version": 3
   },
   "file_extension": ".py",
   "mimetype": "text/x-python",
   "name": "python",
   "nbconvert_exporter": "python",
   "pygments_lexer": "ipython3",
   "version": "3.8.12"
  },
  "toc": {
   "base_numbering": 1,
   "nav_menu": {},
   "number_sections": true,
   "sideBar": true,
   "skip_h1_title": false,
   "title_cell": "Table of Contents",
   "title_sidebar": "Contents",
   "toc_cell": false,
   "toc_position": {},
   "toc_section_display": true,
   "toc_window_display": false
  },
  "varInspector": {
   "cols": {
    "lenName": 16,
    "lenType": 16,
    "lenVar": 40
   },
   "kernels_config": {
    "python": {
     "delete_cmd_postfix": "",
     "delete_cmd_prefix": "del ",
     "library": "var_list.py",
     "varRefreshCmd": "print(var_dic_list())"
    },
    "r": {
     "delete_cmd_postfix": ") ",
     "delete_cmd_prefix": "rm(",
     "library": "var_list.r",
     "varRefreshCmd": "cat(var_dic_list()) "
    }
   },
   "types_to_exclude": [
    "module",
    "function",
    "builtin_function_or_method",
    "instance",
    "_Feature"
   ],
   "window_display": false
  }
 },
 "nbformat": 4,
 "nbformat_minor": 5
}
