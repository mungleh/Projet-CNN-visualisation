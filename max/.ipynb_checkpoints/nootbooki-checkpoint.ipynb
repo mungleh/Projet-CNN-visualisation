{
 "cells": [
  {
   "cell_type": "code",
   "execution_count": 1,
   "id": "4f4da832",
   "metadata": {},
   "outputs": [
    {
     "name": "stderr",
     "output_type": "stream",
     "text": [
      "2023-04-28 10:14:31.676541: I tensorflow/tsl/cuda/cudart_stub.cc:28] Could not find cuda drivers on your machine, GPU will not be used.\n",
      "2023-04-28 10:14:32.141439: I tensorflow/tsl/cuda/cudart_stub.cc:28] Could not find cuda drivers on your machine, GPU will not be used.\n",
      "2023-04-28 10:14:32.143194: I tensorflow/core/platform/cpu_feature_guard.cc:182] This TensorFlow binary is optimized to use available CPU instructions in performance-critical operations.\n",
      "To enable the following instructions: AVX2 FMA, in other operations, rebuild TensorFlow with the appropriate compiler flags.\n",
      "2023-04-28 10:14:34.118347: W tensorflow/compiler/tf2tensorrt/utils/py_utils.cc:38] TF-TRT Warning: Could not find TensorRT\n"
     ]
    }
   ],
   "source": [
    "import pandas as pd\n",
    "import numpy as np\n",
    "import matplotlib.pyplot as plt\n",
    "\n",
    "import tensorflow as tf\n",
    "from tensorflow import keras\n",
    "from tensorflow.keras import layers\n",
    "from tensorflow.keras import initializers\n",
    "from sklearn.model_selection import train_test_split\n",
    "from tensorflow.keras import callbacks\n",
    "from tensorflow.keras.callbacks import EarlyStopping\n",
    "from tensorflow.keras.initializers import GlorotNormal\n",
    "\n",
    "from sklearn.metrics import classification_report\n",
    "from sklearn.metrics import confusion_matrix"
   ]
  },
  {
   "cell_type": "code",
   "execution_count": 3,
   "id": "074d0c91",
   "metadata": {},
   "outputs": [],
   "source": [
    "train = pd.read_csv(\"data/train.csv\", delimiter=\",\")\n",
    "test = pd.read_csv(\"data/test.csv\", delimiter=\",\")"
   ]
  },
  {
   "cell_type": "code",
   "execution_count": 4,
   "id": "e5900ac1",
   "metadata": {},
   "outputs": [],
   "source": [
    "train_data = np.array(train, dtype = 'float32')\n",
    "X_test = np.array(test, dtype='float32')"
   ]
  },
  {
   "cell_type": "code",
   "execution_count": 5,
   "id": "491a76aa",
   "metadata": {},
   "outputs": [],
   "source": [
    "X_train = train_data[:,1:]/255\n",
    "\n",
    "y_train = train_data[:,0]"
   ]
  },
  {
   "cell_type": "code",
   "execution_count": 6,
   "id": "a6476bed",
   "metadata": {
    "scrolled": true
   },
   "outputs": [
    {
     "data": {
      "text/plain": [
       "array([[0., 0., 0., ..., 0., 0., 0.],\n",
       "       [0., 0., 0., ..., 0., 0., 0.],\n",
       "       [0., 0., 0., ..., 0., 0., 0.],\n",
       "       ...,\n",
       "       [0., 0., 0., ..., 0., 0., 0.],\n",
       "       [0., 0., 0., ..., 0., 0., 0.],\n",
       "       [0., 0., 0., ..., 0., 0., 0.]], dtype=float32)"
      ]
     },
     "execution_count": 6,
     "metadata": {},
     "output_type": "execute_result"
    }
   ],
   "source": [
    "X_train"
   ]
  },
  {
   "cell_type": "code",
   "execution_count": 7,
   "id": "61ac0c0a",
   "metadata": {},
   "outputs": [
    {
     "data": {
      "text/plain": [
       "(42000, 784)"
      ]
     },
     "execution_count": 7,
     "metadata": {},
     "output_type": "execute_result"
    }
   ],
   "source": [
    "X_train.shape"
   ]
  },
  {
   "cell_type": "code",
   "execution_count": 8,
   "id": "e424ebdc",
   "metadata": {},
   "outputs": [],
   "source": [
    "X_train,X_test,y_train,y_test = train_test_split(X_train,y_train,test_size = 0.2,random_state = 713)"
   ]
  },
  {
   "cell_type": "code",
   "execution_count": 9,
   "id": "dd2cddf1",
   "metadata": {},
   "outputs": [],
   "source": [
    "# plt.figure(figsize=(10, 10))\n",
    "# for i in range(36):\n",
    "#     plt.subplot(6, 6, i + 1)\n",
    "#     plt.xticks([])\n",
    "#     plt.yticks([])\n",
    "#     plt.grid(False)\n",
    "#     plt.imshow(X_train[i].reshape((28,28)))\n",
    "#     label_index = int(y_train[i])\n",
    "# plt.show()"
   ]
  },
  {
   "cell_type": "code",
   "execution_count": 10,
   "id": "64316775",
   "metadata": {},
   "outputs": [],
   "source": [
    "image_shape = (28,28,1) "
   ]
  },
  {
   "cell_type": "code",
   "execution_count": 11,
   "id": "f49bbb60",
   "metadata": {},
   "outputs": [],
   "source": [
    "X_train = X_train.reshape(X_train.shape[0],*image_shape)\n",
    "X_test = X_test.reshape(X_test.shape[0],*image_shape)"
   ]
  },
  {
   "cell_type": "code",
   "execution_count": 12,
   "id": "f661e22d",
   "metadata": {},
   "outputs": [
    {
     "data": {
      "text/plain": [
       "(33600, 28, 28, 1)"
      ]
     },
     "execution_count": 12,
     "metadata": {},
     "output_type": "execute_result"
    }
   ],
   "source": [
    "X_train.shape"
   ]
  },
  {
   "cell_type": "code",
   "execution_count": 79,
   "id": "6e4e0926",
   "metadata": {},
   "outputs": [],
   "source": [
    "# initializer = GlorotNormal()\n",
    "\n",
    "model = keras.Sequential([\n",
    "    #base\n",
    "    layers.Conv2D(filters=32, kernel_size=3, activation='relu',input_shape=image_shape),\n",
    "    #heatete\n",
    "    layers.Flatten(),\n",
    "    layers.Dense(32, activation='relu'),\n",
    "    layers.Dense(10, activation='softmax'),\n",
    "])\n",
    "\n",
    "model.compile(\n",
    "    optimizer='adam',\n",
    "    loss='sparse_categorical_crossentropy',\n",
    "    metrics=['accuracy']\n",
    ")\n",
    "\n",
    "early_stopping = EarlyStopping(\n",
    "    min_delta=0.001, # minimium amount of change to count as an improvement\n",
    "    patience=1, # how many epochs to wait before stopping\n",
    "    restore_best_weights=True,\n",
    ")"
   ]
  },
  {
   "cell_type": "code",
   "execution_count": 80,
   "id": "9fe5eebc",
   "metadata": {
    "scrolled": true
   },
   "outputs": [
    {
     "name": "stdout",
     "output_type": "stream",
     "text": [
      "Epoch 1/50\n",
      "66/66 [==============================] - 8s 102ms/step - loss: 0.5504 - accuracy: 0.8459 - val_loss: 0.2608 - val_accuracy: 0.9233\n",
      "Epoch 2/50\n",
      "66/66 [==============================] - 8s 126ms/step - loss: 0.2114 - accuracy: 0.9404 - val_loss: 0.1746 - val_accuracy: 0.9514\n",
      "Epoch 3/50\n",
      "66/66 [==============================] - 7s 101ms/step - loss: 0.1447 - accuracy: 0.9598 - val_loss: 0.1361 - val_accuracy: 0.9629\n",
      "Epoch 4/50\n",
      "66/66 [==============================] - 9s 140ms/step - loss: 0.1044 - accuracy: 0.9710 - val_loss: 0.1051 - val_accuracy: 0.9713\n",
      "Epoch 5/50\n",
      "66/66 [==============================] - 11s 165ms/step - loss: 0.0776 - accuracy: 0.9791 - val_loss: 0.0942 - val_accuracy: 0.9746\n",
      "Epoch 6/50\n",
      "66/66 [==============================] - 8s 128ms/step - loss: 0.0620 - accuracy: 0.9840 - val_loss: 0.0875 - val_accuracy: 0.9758\n",
      "Epoch 7/50\n",
      "66/66 [==============================] - 10s 147ms/step - loss: 0.0501 - accuracy: 0.9870 - val_loss: 0.0799 - val_accuracy: 0.9774\n",
      "Epoch 8/50\n",
      "66/66 [==============================] - 10s 149ms/step - loss: 0.0416 - accuracy: 0.9891 - val_loss: 0.0751 - val_accuracy: 0.9799\n",
      "Epoch 9/50\n",
      "66/66 [==============================] - 10s 150ms/step - loss: 0.0351 - accuracy: 0.9907 - val_loss: 0.0709 - val_accuracy: 0.9787\n",
      "Epoch 10/50\n",
      "66/66 [==============================] - 10s 148ms/step - loss: 0.0295 - accuracy: 0.9925 - val_loss: 0.0716 - val_accuracy: 0.9790\n"
     ]
    }
   ],
   "source": [
    "history = model.fit(\n",
    "    X_train, y_train,\n",
    "    batch_size=512,\n",
    "    validation_split=0.33,\n",
    "    validation_data=(X_test, y_test),\n",
    "    callbacks=[early_stopping],\n",
    "    epochs=50,\n",
    "    verbose=1\n",
    ")"
   ]
  },
  {
   "cell_type": "code",
   "execution_count": 81,
   "id": "6024cded",
   "metadata": {},
   "outputs": [],
   "source": [
    "history_df = pd.DataFrame(history.history)"
   ]
  },
  {
   "cell_type": "code",
   "execution_count": 82,
   "id": "a8a1649e",
   "metadata": {},
   "outputs": [
    {
     "name": "stdout",
     "output_type": "stream",
     "text": [
      "263/263 [==============================] - 1s 5ms/step - loss: 0.0709 - accuracy: 0.9787\n",
      "263/263 [==============================] - 2s 6ms/step\n",
      "              precision    recall  f1-score   support\n",
      "\n",
      "         0.0       0.99      0.99      0.99       816\n",
      "         1.0       0.99      0.99      0.99       942\n",
      "         2.0       0.98      0.97      0.98       880\n",
      "         3.0       0.98      0.97      0.98       846\n",
      "         4.0       0.97      0.99      0.98       795\n",
      "         5.0       0.98      0.96      0.97       778\n",
      "         6.0       0.99      0.99      0.99       813\n",
      "         7.0       0.97      0.99      0.98       876\n",
      "         8.0       0.95      0.97      0.96       796\n",
      "         9.0       0.98      0.96      0.97       858\n",
      "\n",
      "    accuracy                           0.98      8400\n",
      "   macro avg       0.98      0.98      0.98      8400\n",
      "weighted avg       0.98      0.98      0.98      8400\n",
      "\n"
     ]
    }
   ],
   "source": [
    "test_loss, test_acc = model.evaluate(X_test, y_test)\n",
    "y_pred = model.predict(X_test)\n",
    "y_pred_classes = np.argmax(y_pred, axis = 1)\n",
    "confusion = confusion_matrix(y_test, y_pred_classes)\n",
    "print(classification_report(y_test, y_pred_classes))"
   ]
  },
  {
   "cell_type": "code",
   "execution_count": 83,
   "id": "2e9ed999",
   "metadata": {},
   "outputs": [
    {
     "data": {
      "text/plain": [
       "Text(0.5, 1.0, 'Train - Accuracy')"
      ]
     },
     "execution_count": 83,
     "metadata": {},
     "output_type": "execute_result"
    },
    {
     "data": {
      "image/png": "[encoded data removed]",
      "text/plain": [
       "<Figure size 1000x1000 with 2 Axes>"
      ]
     },
     "metadata": {},
     "output_type": "display_data"
    }
   ],
   "source": [
    "plt.figure(figsize=(10, 10))\n",
    "\n",
    "plt.subplot(2, 2, 1)\n",
    "plt.plot(history.history['loss'], label='Loss')\n",
    "plt.plot(history.history['val_loss'], label='Validation Loss')\n",
    "plt.legend()\n",
    "plt.title('Training - Loss Function')\n",
    "\n",
    "plt.subplot(2, 2, 2)\n",
    "plt.plot(history.history['accuracy'], label='Accuracy')\n",
    "plt.plot(history.history['val_accuracy'], label='Validation Accuracy')\n",
    "plt.legend()\n",
    "plt.title('Train - Accuracy')"
   ]
  },
  {
   "cell_type": "code",
   "execution_count": 84,
   "id": "5f3f39e6",
   "metadata": {},
   "outputs": [],
   "source": [
    "model.save('modail.h5')"
   ]
  },
  {
   "cell_type": "code",
   "execution_count": 23,
   "id": "40c33330",
   "metadata": {},
   "outputs": [
    {
     "name": "stdout",
     "output_type": "stream",
     "text": [
      "Model: \"sequential\"\n",
      "_________________________________________________________________\n",
      " Layer (type)                Output Shape              Param #   \n",
      "=================================================================\n",
      " conv2d (Conv2D)             (None, 26, 26, 32)        320       \n",
      "                                                                 \n",
      " flatten (Flatten)           (None, 21632)             0         \n",
      "                                                                 \n",
      " dense (Dense)               (None, 32)                692256    \n",
      "                                                                 \n",
      " dense_1 (Dense)             (None, 10)                330       \n",
      "                                                                 \n",
      "=================================================================\n",
      "Total params: 692,906\n",
      "Trainable params: 692,906\n",
      "Non-trainable params: 0\n",
      "_________________________________________________________________\n"
     ]
    }
   ],
   "source": [
    "new_model = tf.keras.models.load_model('modail.h5')\n",
    "\n",
    "new_model.summary()"
   ]
  },
  {
   "cell_type": "markdown",
   "id": "2e514586",
   "metadata": {},
   "source": [
    "parti streamlit"
   ]
  },
  {
   "cell_type": "code",
   "execution_count": 72,
   "id": "5eac06af",
   "metadata": {},
   "outputs": [],
   "source": [
    "import cv2\n",
    "\n",
    "img = cv2.imread(\"test.png\",cv2.IMREAD_GRAYSCALE)"
   ]
  },
  {
   "cell_type": "code",
   "execution_count": 73,
   "id": "054091d0",
   "metadata": {},
   "outputs": [],
   "source": [
    "#2eme technique\n",
    "# from PIL import Image\n",
    "\n",
    "# im = np.array(Image.open(\"test.png\").convert('L'))"
   ]
  },
  {
   "cell_type": "code",
   "execution_count": 74,
   "id": "167a4206",
   "metadata": {},
   "outputs": [],
   "source": [
    "resized = cv2.resize(img, (28,28)).astype('float32').reshape(1,28,28,1)/255"
   ]
  },
  {
   "cell_type": "code",
   "execution_count": 75,
   "id": "ae479de0",
   "metadata": {
    "scrolled": true
   },
   "outputs": [
    {
     "name": "stdout",
     "output_type": "stream",
     "text": [
      "1/1 [==============================] - 0s 24ms/step\n"
     ]
    }
   ],
   "source": [
    "y_pred = new_model.predict(resized)"
   ]
  },
  {
   "cell_type": "code",
   "execution_count": 76,
   "id": "f7c97c67",
   "metadata": {
    "scrolled": true
   },
   "outputs": [
    {
     "data": {
      "text/plain": [
       "array([[ 0.      ,  0.      ,  9.6     ,  4.1     ,  0.      , 86.299995,\n",
       "         0.      ,  0.      ,  0.      ,  0.      ]], dtype=float32)"
      ]
     },
     "execution_count": 76,
     "metadata": {},
     "output_type": "execute_result"
    }
   ],
   "source": [
    "np.round(y_pred,3)*100"
   ]
  },
  {
   "cell_type": "code",
   "execution_count": 77,
   "id": "7326cdf4",
   "metadata": {
    "scrolled": true
   },
   "outputs": [
    {
     "data": {
      "text/plain": [
       "<matplotlib.image.AxesImage at 0x7ff0c67c5520>"
      ]
     },
     "execution_count": 77,
     "metadata": {},
     "output_type": "execute_result"
    },
    {
     "data": {
      "image/png": "[encoded data removed]",
      "text/plain": [
       "<Figure size 640x480 with 1 Axes>"
      ]
     },
     "metadata": {},
     "output_type": "display_data"
    }
   ],
   "source": [
    "plt.imshow(resized[0],cmap='gray')"
   ]
  },
  {
   "cell_type": "code",
   "execution_count": null,
   "id": "a6b760fa",
   "metadata": {},
   "outputs": [],
   "source": []
  }
 ],
 "metadata": {
  "kernelspec": {
   "display_name": "Python 3 (ipykernel)",
   "language": "python",
   "name": "python3"
  },
  "language_info": {
   "codemirror_mode": {
    "name": "ipython",
    "version": 3
   },
   "file_extension": ".py",
   "mimetype": "text/x-python",
   "name": "python",
   "nbconvert_exporter": "python",
   "pygments_lexer": "ipython3",
   "version": "3.8.12"
  },
  "toc": {
   "base_numbering": 1,
   "nav_menu": {},
   "number_sections": true,
   "sideBar": true,
   "skip_h1_title": false,
   "title_cell": "Table of Contents",
   "title_sidebar": "Contents",
   "toc_cell": false,
   "toc_position": {},
   "toc_section_display": true,
   "toc_window_display": false
  }
 },
 "nbformat": 4,
 "nbformat_minor": 5
}
