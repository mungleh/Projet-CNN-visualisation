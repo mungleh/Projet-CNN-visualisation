{
 "cells": [
  {
   "cell_type": "code",
   "execution_count": 172,
   "id": "4f4da832",
   "metadata": {},
   "outputs": [],
   "source": [
    "import pandas as pd\n",
    "import numpy as np\n",
    "import matplotlib.pyplot as plt\n",
    "\n",
    "import tensorflow as tf\n",
    "from tensorflow import keras\n",
    "from tensorflow.keras import layers\n",
    "from tensorflow.keras import initializers\n",
    "from sklearn.model_selection import train_test_split\n",
    "from tensorflow.keras import callbacks\n",
    "from tensorflow.keras.callbacks import EarlyStopping\n",
    "from tensorflow.keras.initializers import GlorotNormal\n",
    "\n",
    "from sklearn.metrics import classification_report\n",
    "from sklearn.metrics import confusion_matrix"
   ]
  },
  {
   "cell_type": "code",
   "execution_count": 173,
   "id": "074d0c91",
   "metadata": {},
   "outputs": [],
   "source": [
    "train = pd.read_csv(\"data/train.csv\", delimiter=\",\")\n",
    "test = pd.read_csv(\"data/test.csv\", delimiter=\",\")"
   ]
  },
  {
   "cell_type": "code",
   "execution_count": 174,
   "id": "e5900ac1",
   "metadata": {},
   "outputs": [],
   "source": [
    "train_data = np.array(train, dtype = 'float32')\n",
    "X_test = np.array(test, dtype='float32')"
   ]
  },
  {
   "cell_type": "code",
   "execution_count": 175,
   "id": "491a76aa",
   "metadata": {},
   "outputs": [],
   "source": [
    "X_train = train_data[:,1:]/255\n",
    "\n",
    "y_train = train_data[:,0]"
   ]
  },
  {
   "cell_type": "code",
   "execution_count": 176,
   "id": "a6476bed",
   "metadata": {
    "scrolled": true
   },
   "outputs": [
    {
     "data": {
      "text/plain": [
       "array([[0., 0., 0., ..., 0., 0., 0.],\n",
       "       [0., 0., 0., ..., 0., 0., 0.],\n",
       "       [0., 0., 0., ..., 0., 0., 0.],\n",
       "       ...,\n",
       "       [0., 0., 0., ..., 0., 0., 0.],\n",
       "       [0., 0., 0., ..., 0., 0., 0.],\n",
       "       [0., 0., 0., ..., 0., 0., 0.]], dtype=float32)"
      ]
     },
     "execution_count": 176,
     "metadata": {},
     "output_type": "execute_result"
    }
   ],
   "source": [
    "X_train"
   ]
  },
  {
   "cell_type": "code",
   "execution_count": 177,
   "id": "61ac0c0a",
   "metadata": {},
   "outputs": [
    {
     "data": {
      "text/plain": [
       "(42000, 784)"
      ]
     },
     "execution_count": 177,
     "metadata": {},
     "output_type": "execute_result"
    }
   ],
   "source": [
    "X_train.shape"
   ]
  },
  {
   "cell_type": "code",
   "execution_count": 178,
   "id": "e424ebdc",
   "metadata": {},
   "outputs": [],
   "source": [
    "X_train,X_test,y_train,y_test = train_test_split(X_train,y_train,test_size = 0.2,random_state = 713)"
   ]
  },
  {
   "cell_type": "code",
   "execution_count": 179,
   "id": "dd2cddf1",
   "metadata": {},
   "outputs": [],
   "source": [
    "# plt.figure(figsize=(10, 10))\n",
    "# for i in range(36):\n",
    "#     plt.subplot(6, 6, i + 1)\n",
    "#     plt.xticks([])\n",
    "#     plt.yticks([])\n",
    "#     plt.grid(False)\n",
    "#     plt.imshow(X_train[i].reshape((28,28)))\n",
    "#     label_index = int(y_train[i])\n",
    "# plt.show()"
   ]
  },
  {
   "cell_type": "code",
   "execution_count": 180,
   "id": "64316775",
   "metadata": {},
   "outputs": [],
   "source": [
    "image_shape = (28,28,1) "
   ]
  },
  {
   "cell_type": "code",
   "execution_count": 181,
   "id": "f49bbb60",
   "metadata": {},
   "outputs": [],
   "source": [
    "X_train = X_train.reshape(X_train.shape[0],*image_shape)\n",
    "X_test = X_test.reshape(X_test.shape[0],*image_shape)"
   ]
  },
  {
   "cell_type": "code",
   "execution_count": 182,
   "id": "f661e22d",
   "metadata": {},
   "outputs": [
    {
     "data": {
      "text/plain": [
       "(33600, 28, 28, 1)"
      ]
     },
     "execution_count": 182,
     "metadata": {},
     "output_type": "execute_result"
    }
   ],
   "source": [
    "X_train.shape"
   ]
  },
  {
   "cell_type": "code",
   "execution_count": 183,
   "id": "6e4e0926",
   "metadata": {},
   "outputs": [],
   "source": [
    "# initializer = GlorotNormal()\n",
    "\n",
    "model = keras.Sequential([\n",
    "    #base\n",
    "    layers.Conv2D(filters=32, kernel_size=3, activation='relu',input_shape=image_shape),\n",
    "    #heatete\n",
    "    layers.Flatten(),\n",
    "    layers.Dense(32, activation='relu'),\n",
    "    layers.Dense(10, activation='softmax'),\n",
    "])\n",
    "\n",
    "model.compile(\n",
    "    optimizer='adam',\n",
    "    loss='sparse_categorical_crossentropy',\n",
    "    metrics=['accuracy']\n",
    ")\n",
    "\n",
    "early_stopping = EarlyStopping(\n",
    "    min_delta=0.001, # minimium amount of change to count as an improvement\n",
    "    patience=5, # how many epochs to wait before stopping\n",
    "    restore_best_weights=True,\n",
    ")"
   ]
  },
  {
   "cell_type": "code",
   "execution_count": 184,
   "id": "9fe5eebc",
   "metadata": {
    "scrolled": true
   },
   "outputs": [
    {
     "name": "stdout",
     "output_type": "stream",
     "text": [
      "Epoch 1/50\n",
      "66/66 [==============================] - 7s 98ms/step - loss: 0.5996 - accuracy: 0.8239 - val_loss: 0.2466 - val_accuracy: 0.9296\n",
      "Epoch 2/50\n",
      "66/66 [==============================] - 6s 93ms/step - loss: 0.1942 - accuracy: 0.9451 - val_loss: 0.1567 - val_accuracy: 0.9567\n",
      "Epoch 3/50\n",
      "66/66 [==============================] - 6s 87ms/step - loss: 0.1268 - accuracy: 0.9648 - val_loss: 0.1214 - val_accuracy: 0.9645\n",
      "Epoch 4/50\n",
      "66/66 [==============================] - 6s 93ms/step - loss: 0.0931 - accuracy: 0.9746 - val_loss: 0.0984 - val_accuracy: 0.9718\n",
      "Epoch 5/50\n",
      "66/66 [==============================] - 7s 100ms/step - loss: 0.0713 - accuracy: 0.9806 - val_loss: 0.0881 - val_accuracy: 0.9737\n",
      "Epoch 6/50\n",
      "66/66 [==============================] - 6s 90ms/step - loss: 0.0597 - accuracy: 0.9832 - val_loss: 0.0838 - val_accuracy: 0.9742\n",
      "Epoch 7/50\n",
      "66/66 [==============================] - 6s 88ms/step - loss: 0.0482 - accuracy: 0.9866 - val_loss: 0.0754 - val_accuracy: 0.9786\n",
      "Epoch 8/50\n",
      "66/66 [==============================] - 6s 87ms/step - loss: 0.0418 - accuracy: 0.9884 - val_loss: 0.0731 - val_accuracy: 0.9771\n",
      "Epoch 9/50\n",
      "66/66 [==============================] - 6s 94ms/step - loss: 0.0343 - accuracy: 0.9910 - val_loss: 0.0711 - val_accuracy: 0.9781\n",
      "Epoch 10/50\n",
      "66/66 [==============================] - 6s 93ms/step - loss: 0.0284 - accuracy: 0.9929 - val_loss: 0.0709 - val_accuracy: 0.9792\n",
      "Epoch 11/50\n",
      "66/66 [==============================] - 6s 98ms/step - loss: 0.0242 - accuracy: 0.9938 - val_loss: 0.0686 - val_accuracy: 0.9787\n",
      "Epoch 12/50\n",
      "66/66 [==============================] - 6s 93ms/step - loss: 0.0207 - accuracy: 0.9955 - val_loss: 0.0705 - val_accuracy: 0.9785\n",
      "Epoch 13/50\n",
      "66/66 [==============================] - 7s 99ms/step - loss: 0.0192 - accuracy: 0.9952 - val_loss: 0.0738 - val_accuracy: 0.9783\n",
      "Epoch 14/50\n",
      "66/66 [==============================] - 7s 99ms/step - loss: 0.0165 - accuracy: 0.9962 - val_loss: 0.0729 - val_accuracy: 0.9789\n",
      "Epoch 15/50\n",
      "66/66 [==============================] - 7s 101ms/step - loss: 0.0131 - accuracy: 0.9977 - val_loss: 0.0678 - val_accuracy: 0.9805\n",
      "Epoch 16/50\n",
      "66/66 [==============================] - 6s 89ms/step - loss: 0.0104 - accuracy: 0.9985 - val_loss: 0.0717 - val_accuracy: 0.9790\n"
     ]
    }
   ],
   "source": [
    "history = model.fit(\n",
    "    X_train, y_train,\n",
    "    batch_size=512,\n",
    "    validation_split=0.33,\n",
    "    validation_data=(X_test, y_test),\n",
    "    callbacks=[early_stopping],\n",
    "    epochs=50,\n",
    "    verbose=1\n",
    ")"
   ]
  },
  {
   "cell_type": "code",
   "execution_count": 185,
   "id": "6024cded",
   "metadata": {},
   "outputs": [],
   "source": [
    "history_df = pd.DataFrame(history.history)"
   ]
  },
  {
   "cell_type": "code",
   "execution_count": 186,
   "id": "a8a1649e",
   "metadata": {},
   "outputs": [
    {
     "name": "stdout",
     "output_type": "stream",
     "text": [
      "263/263 [==============================] - 1s 5ms/step - loss: 0.0686 - accuracy: 0.9787\n",
      "263/263 [==============================] - 1s 5ms/step\n"
     ]
    },
    {
     "data": {
      "text/plain": [
       "'              precision    recall  f1-score   support\\n\\n         0.0       0.98      0.99      0.98       816\\n         1.0       0.99      0.99      0.99       942\\n         2.0       0.98      0.97      0.98       880\\n         3.0       0.98      0.98      0.98       846\\n         4.0       0.98      0.99      0.98       795\\n         5.0       0.99      0.95      0.97       778\\n         6.0       0.99      0.99      0.99       813\\n         7.0       0.99      0.97      0.98       876\\n         8.0       0.96      0.97      0.96       796\\n         9.0       0.97      0.98      0.97       858\\n\\n    accuracy                           0.98      8400\\n   macro avg       0.98      0.98      0.98      8400\\nweighted avg       0.98      0.98      0.98      8400\\n'"
      ]
     },
     "execution_count": 186,
     "metadata": {},
     "output_type": "execute_result"
    }
   ],
   "source": [
    "test_loss, test_acc = model.evaluate(X_test, y_test)\n",
    "y_pred = model.predict(X_test)\n",
    "y_pred_classes = np.argmax(y_pred, axis = 1)\n",
    "confusion = confusion_matrix(y_test, y_pred_classes)\n",
    "print(classification_report(y_test, y_pred_classes))"
   ]
  },
  {
   "cell_type": "code",
   "execution_count": 187,
   "id": "2e9ed999",
   "metadata": {},
   "outputs": [
    {
     "data": {
      "text/plain": [
       "Text(0.5, 1.0, 'Train - Accuracy')"
      ]
     },
     "execution_count": 187,
     "metadata": {},
     "output_type": "execute_result"
    },
    {
     "data": {
      "image/png": "[encoded data removed]",
      "text/plain": [
       "<Figure size 1000x1000 with 2 Axes>"
      ]
     },
     "metadata": {},
     "output_type": "display_data"
    }
   ],
   "source": [
    "plt.figure(figsize=(10, 10))\n",
    "\n",
    "plt.subplot(2, 2, 1)\n",
    "plt.plot(history.history['loss'], label='Loss')\n",
    "plt.plot(history.history['val_loss'], label='Validation Loss')\n",
    "plt.legend()\n",
    "plt.title('Training - Loss Function')\n",
    "\n",
    "plt.subplot(2, 2, 2)\n",
    "plt.plot(history.history['accuracy'], label='Accuracy')\n",
    "plt.plot(history.history['val_accuracy'], label='Validation Accuracy')\n",
    "plt.legend()\n",
    "plt.title('Train - Accuracy')"
   ]
  },
  {
   "cell_type": "code",
   "execution_count": 188,
   "id": "5f3f39e6",
   "metadata": {},
   "outputs": [],
   "source": [
    "model.save('modail.h5')"
   ]
  },
  {
   "cell_type": "code",
   "execution_count": 189,
   "id": "40c33330",
   "metadata": {},
   "outputs": [],
   "source": [
    "#new_model = tf.keras.models.load_model('modail.h5')\n",
    "\n",
    "# new_model.summary()"
   ]
  },
  {
   "cell_type": "markdown",
   "id": "2e514586",
   "metadata": {},
   "source": [
    "parti streamlit"
   ]
  },
  {
   "cell_type": "code",
   "execution_count": 259,
   "id": "5eac06af",
   "metadata": {},
   "outputs": [],
   "source": [
    "import cv2\n",
    "\n",
    "img = cv2.imread(\"test.png\",cv2.IMREAD_GRAYSCALE)"
   ]
  },
  {
   "cell_type": "code",
   "execution_count": 260,
   "id": "167a4206",
   "metadata": {},
   "outputs": [],
   "source": [
    "resized = cv2.resize(img, (28,28)).astype('float32').reshape(1,28,28,1)/255"
   ]
  },
  {
   "cell_type": "code",
   "execution_count": 261,
   "id": "ae479de0",
   "metadata": {
    "scrolled": true
   },
   "outputs": [
    {
     "name": "stdout",
     "output_type": "stream",
     "text": [
      "1/1 [==============================] - 0s 24ms/step\n"
     ]
    }
   ],
   "source": [
    "y_pred = new_model.predict(resized)"
   ]
  },
  {
   "cell_type": "code",
   "execution_count": 262,
   "id": "f7c97c67",
   "metadata": {
    "scrolled": true
   },
   "outputs": [
    {
     "data": {
      "text/plain": [
       "array([[ 0. ,  0. , 99.9,  0.1,  0. ,  0. ,  0. ,  0. ,  0. ,  0. ]],\n",
       "      dtype=float32)"
      ]
     },
     "execution_count": 262,
     "metadata": {},
     "output_type": "execute_result"
    }
   ],
   "source": [
    "np.round(y_pred,3)*100"
   ]
  },
  {
   "cell_type": "code",
   "execution_count": 226,
   "id": "7326cdf4",
   "metadata": {},
   "outputs": [
    {
     "data": {
      "text/plain": [
       "<matplotlib.image.AxesImage at 0x7f9759ab0b20>"
      ]
     },
     "execution_count": 226,
     "metadata": {},
     "output_type": "execute_result"
    },
    {
     "data": {
      "image/png": "[encoded data removed]",
      "text/plain": [
       "<Figure size 640x480 with 1 Axes>"
      ]
     },
     "metadata": {},
     "output_type": "display_data"
    }
   ],
   "source": [
    "plt.imshow(resized[0],cmap='gray')"
   ]
  },
  {
   "cell_type": "code",
   "execution_count": null,
   "id": "0be5cf4b",
   "metadata": {},
   "outputs": [],
   "source": []
  }
 ],
 "metadata": {
  "kernelspec": {
   "display_name": "Python 3 (ipykernel)",
   "language": "python",
   "name": "python3"
  },
  "language_info": {
   "codemirror_mode": {
    "name": "ipython",
    "version": 3
   },
   "file_extension": ".py",
   "mimetype": "text/x-python",
   "name": "python",
   "nbconvert_exporter": "python",
   "pygments_lexer": "ipython3",
   "version": "3.8.12"
  },
  "toc": {
   "base_numbering": 1,
   "nav_menu": {},
   "number_sections": true,
   "sideBar": true,
   "skip_h1_title": false,
   "title_cell": "Table of Contents",
   "title_sidebar": "Contents",
   "toc_cell": false,
   "toc_position": {},
   "toc_section_display": true,
   "toc_window_display": false
  }
 },
 "nbformat": 4,
 "nbformat_minor": 5
}
