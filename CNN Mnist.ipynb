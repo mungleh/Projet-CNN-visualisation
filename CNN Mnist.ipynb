{
 "cells": [
  {
   "cell_type": "code",
   "execution_count": 1,
   "id": "3202f037",
   "metadata": {
    "ExecuteTime": {
     "end_time": "2023-04-28T13:54:58.266295Z",
     "start_time": "2023-04-28T13:54:56.152355Z"
    }
   },
   "outputs": [],
   "source": [
    "import pandas as pd\n",
    "import matplotlib.pyplot as plt\n",
    "import seaborn as sns\n",
    "import warnings\n",
    "warnings.filterwarnings('ignore')"
   ]
  },
  {
   "cell_type": "code",
   "execution_count": 2,
   "id": "5955e4d8",
   "metadata": {
    "ExecuteTime": {
     "end_time": "2023-04-28T13:55:00.800537Z",
     "start_time": "2023-04-28T13:54:58.272828Z"
    }
   },
   "outputs": [
    {
     "name": "stderr",
     "output_type": "stream",
     "text": [
      "2023-04-28 15:54:58.578996: I tensorflow/tsl/cuda/cudart_stub.cc:28] Could not find cuda drivers on your machine, GPU will not be used.\n",
      "2023-04-28 15:54:58.649300: I tensorflow/tsl/cuda/cudart_stub.cc:28] Could not find cuda drivers on your machine, GPU will not be used.\n",
      "2023-04-28 15:54:58.650502: I tensorflow/core/platform/cpu_feature_guard.cc:182] This TensorFlow binary is optimized to use available CPU instructions in performance-critical operations.\n",
      "To enable the following instructions: AVX2 FMA, in other operations, rebuild TensorFlow with the appropriate compiler flags.\n",
      "2023-04-28 15:54:59.820281: W tensorflow/compiler/tf2tensorrt/utils/py_utils.cc:38] TF-TRT Warning: Could not find TensorRT\n"
     ]
    }
   ],
   "source": [
    "from keras.preprocessing.image import ImageDataGenerator"
   ]
  },
  {
   "cell_type": "code",
   "execution_count": 3,
   "id": "e5052240",
   "metadata": {
    "ExecuteTime": {
     "end_time": "2023-04-28T13:55:01.063521Z",
     "start_time": "2023-04-28T13:55:00.805345Z"
    }
   },
   "outputs": [],
   "source": [
    "from sklearn.model_selection import train_test_split\n",
    "from keras.utils import to_categorical\n",
    "from tensorflow.keras.layers import Dense\n",
    "from tensorflow.keras.models import Sequential\n",
    "from tensorflow.keras.layers import Dropout\n",
    "from tensorflow.keras.layers import Conv2D\n",
    "from tensorflow.keras.layers import MaxPooling2D\n",
    "from tensorflow.keras.layers import Flatten\n",
    "from tensorflow.keras.callbacks import EarlyStopping\n",
    "from tensorflow.keras.layers import BatchNormalization\n",
    "from tensorflow import transpose\n",
    "from keras.utils import np_utils\n",
    "from sklearn.metrics import classification_report\n",
    "from sklearn.metrics import confusion_matrix"
   ]
  },
  {
   "cell_type": "code",
   "execution_count": 4,
   "id": "ef3f96e9",
   "metadata": {
    "ExecuteTime": {
     "end_time": "2023-04-28T13:55:03.835328Z",
     "start_time": "2023-04-28T13:55:01.070980Z"
    }
   },
   "outputs": [],
   "source": [
    "images = pd.read_csv(\"train.csv\")"
   ]
  },
  {
   "cell_type": "code",
   "execution_count": 5,
   "id": "e32b5361",
   "metadata": {
    "ExecuteTime": {
     "end_time": "2023-04-28T13:55:04.161553Z",
     "start_time": "2023-04-28T13:55:03.842981Z"
    }
   },
   "outputs": [],
   "source": [
    "y = images['label']\n",
    "X = images.drop(\"label\",axis = 1)\n",
    "X = X.values.reshape(-1,28,28,1)\n",
    "X = X/255"
   ]
  },
  {
   "cell_type": "code",
   "execution_count": 6,
   "id": "9f0edf72",
   "metadata": {
    "ExecuteTime": {
     "end_time": "2023-04-28T13:55:51.222950Z",
     "start_time": "2023-04-28T13:55:04.165560Z"
    }
   },
   "outputs": [
    {
     "data": {
      "image/png": "[encoded data removed]",
      "text/plain": [
       "<Figure size 1000x500 with 5 Axes>"
      ]
     },
     "metadata": {},
     "output_type": "display_data"
    }
   ],
   "source": [
    "# Create a data generator for data augmentation\n",
    "datagen = ImageDataGenerator(\n",
    "    rotation_range=40,      # randomly rotate the images by up to 10 degrees\n",
    "    zoom_range=0.3,         # randomly zoom the images by up to 10%\n",
    "    width_shift_range=0.2,  # randomly shift the images horizontally by up to 10%\n",
    "    height_shift_range=0.15, # randomly shift the images vertically by up to 10%\n",
    "    horizontal_flip=True,   # randomly flip the images horizontally\n",
    "    vertical_flip=False,    # don't randomly flip the images vertically\n",
    "    fill_mode='reflect'     # fill any empty pixels with the nearest value\n",
    ")\n",
    "\n",
    "# Fit the data generator to the training data\n",
    "datagen.fit(X)\n",
    "\n",
    "# Generate augmented data\n",
    "augmented_data = datagen.flow(X, y, batch_size=22000)\n",
    "\n",
    "# generate a batch of augmented data\n",
    "X_augmented, y_augmented = next(augmented_data)\n",
    "\n",
    "# concatenate the augmented data with the original training data\n",
    "X = np.concatenate((X, X_augmented))\n",
    "y = np.concatenate((y, y_augmented))\n",
    "\n",
    "X_train,X_test,y_train,y_test = train_test_split(X,y,test_size = 0.3, random_state = 0)\n",
    "\n",
    "\n",
    "# Plot a few examples of the augmented data\n",
    "fig, ax = plt.subplots(nrows=1, ncols=5, figsize=(10, 5))\n",
    "for i in range(5):\n",
    "    ax[i].imshow(augmented_data[0][0][i].reshape(28, 28), cmap='gray')\n",
    "plt.show()"
   ]
  },
  {
   "cell_type": "code",
   "execution_count": 10,
   "id": "1232eb1d",
   "metadata": {
    "ExecuteTime": {
     "end_time": "2023-04-28T13:56:09.831057Z",
     "start_time": "2023-04-28T13:56:09.619698Z"
    }
   },
   "outputs": [],
   "source": [
    "model = Sequential()\n",
    "model.add(BatchNormalization(input_shape=(28,28,1)))\n",
    "model.add(Conv2D(32,(3,3),activation = 'relu'))\n",
    "model.add(MaxPooling2D((2,2)))\n",
    "model.add(Dropout(0.25))\n",
    "model.add(Conv2D(filters=32, kernel_size=(3,3), activation='relu'))\n",
    "model.add(MaxPooling2D(pool_size=(2,2)))\n",
    "model.add(Conv2D(filters=32, kernel_size=(3,3), activation='relu'))\n",
    "model.add(Dropout(0.25))\n",
    "model.add(Flatten())\n",
    "model.add(Dense(256, activation = \"relu\"))\n",
    "model.add(Dense(10, activation =\"softmax\"))"
   ]
  },
  {
   "cell_type": "code",
   "execution_count": 11,
   "id": "dae6f4d6",
   "metadata": {
    "ExecuteTime": {
     "end_time": "2023-04-28T13:56:09.862484Z",
     "start_time": "2023-04-28T13:56:09.837381Z"
    }
   },
   "outputs": [],
   "source": [
    "model.compile(\n",
    "    optimizer='adam',\n",
    "    loss='sparse_categorical_crossentropy',\n",
    "    metrics=['accuracy']\n",
    ")"
   ]
  },
  {
   "cell_type": "code",
   "execution_count": 12,
   "id": "de59ab82",
   "metadata": {
    "ExecuteTime": {
     "end_time": "2023-04-28T13:56:09.872529Z",
     "start_time": "2023-04-28T13:56:09.866749Z"
    }
   },
   "outputs": [],
   "source": [
    "early_stopping = EarlyStopping(\n",
    "    monitor = 'val_loss', # monitor the validation loss during training and stop training if there is no improvement in the validation loss for 2 consecutive epochs.\n",
    "    min_delta=0.001, # minimium amount of change to count as an improvement\n",
    "    patience=4, # how many epochs to wait before stopping\n",
    "    restore_best_weights=True,\n",
    ")"
   ]
  },
  {
   "cell_type": "code",
   "execution_count": 13,
   "id": "ebd5649f",
   "metadata": {
    "ExecuteTime": {
     "end_time": "2023-04-28T14:04:03.933204Z",
     "start_time": "2023-04-28T13:56:09.881555Z"
    }
   },
   "outputs": [
    {
     "name": "stdout",
     "output_type": "stream",
     "text": [
      "Epoch 1/15\n"
     ]
    },
    {
     "name": "stderr",
     "output_type": "stream",
     "text": [
      "2023-04-28 15:56:09.971741: W tensorflow/tsl/framework/cpu_allocator_impl.cc:83] Allocation of 140492800 exceeds 10% of free system memory.\n"
     ]
    },
    {
     "name": "stdout",
     "output_type": "stream",
     "text": [
      "1400/1400 [==============================] - 34s 23ms/step - loss: 0.7388 - accuracy: 0.7608 - val_loss: 0.4259 - val_accuracy: 0.8555\n",
      "Epoch 2/15\n",
      "1400/1400 [==============================] - 39s 28ms/step - loss: 0.4241 - accuracy: 0.8613 - val_loss: 0.3238 - val_accuracy: 0.8953\n",
      "Epoch 3/15\n",
      "1400/1400 [==============================] - 30s 22ms/step - loss: 0.3348 - accuracy: 0.8917 - val_loss: 0.2629 - val_accuracy: 0.9136\n",
      "Epoch 4/15\n",
      "1400/1400 [==============================] - 30s 22ms/step - loss: 0.2803 - accuracy: 0.9078 - val_loss: 0.2225 - val_accuracy: 0.9278\n",
      "Epoch 5/15\n",
      "1400/1400 [==============================] - 30s 22ms/step - loss: 0.2484 - accuracy: 0.9185 - val_loss: 0.2051 - val_accuracy: 0.9348\n",
      "Epoch 6/15\n",
      "1400/1400 [==============================] - 30s 21ms/step - loss: 0.2290 - accuracy: 0.9235 - val_loss: 0.2011 - val_accuracy: 0.9364\n",
      "Epoch 7/15\n",
      "1400/1400 [==============================] - 30s 22ms/step - loss: 0.2063 - accuracy: 0.9325 - val_loss: 0.1855 - val_accuracy: 0.9408\n",
      "Epoch 8/15\n",
      "1400/1400 [==============================] - 30s 21ms/step - loss: 0.1909 - accuracy: 0.9365 - val_loss: 0.1941 - val_accuracy: 0.9378\n",
      "Epoch 9/15\n",
      "1400/1400 [==============================] - 30s 21ms/step - loss: 0.1810 - accuracy: 0.9400 - val_loss: 0.1668 - val_accuracy: 0.9462\n",
      "Epoch 10/15\n",
      "1400/1400 [==============================] - 30s 22ms/step - loss: 0.1683 - accuracy: 0.9441 - val_loss: 0.1682 - val_accuracy: 0.9466\n",
      "Epoch 11/15\n",
      "1400/1400 [==============================] - 31s 22ms/step - loss: 0.1587 - accuracy: 0.9472 - val_loss: 0.1784 - val_accuracy: 0.9446\n",
      "Epoch 12/15\n",
      "1400/1400 [==============================] - 31s 22ms/step - loss: 0.1511 - accuracy: 0.9503 - val_loss: 0.1550 - val_accuracy: 0.9516\n",
      "Epoch 13/15\n",
      "1400/1400 [==============================] - 30s 22ms/step - loss: 0.1461 - accuracy: 0.9512 - val_loss: 0.1545 - val_accuracy: 0.9515\n",
      "Epoch 14/15\n",
      "1400/1400 [==============================] - 30s 22ms/step - loss: 0.1410 - accuracy: 0.9521 - val_loss: 0.1716 - val_accuracy: 0.9459\n",
      "Epoch 15/15\n",
      "1400/1400 [==============================] - 37s 26ms/step - loss: 0.1320 - accuracy: 0.9555 - val_loss: 0.1712 - val_accuracy: 0.9482\n"
     ]
    }
   ],
   "source": [
    "# Train the model with 20 epochs\n",
    "history = model.fit(\n",
    "    X_train,\n",
    "    y_train,\n",
    "    epochs=15,\n",
    "    batch_size=32,\n",
    "    validation_data=(X_test, y_test),\n",
    "    callbacks = [early_stopping]\n",
    ")"
   ]
  },
  {
   "cell_type": "code",
   "execution_count": 14,
   "id": "ed4eeb07",
   "metadata": {
    "ExecuteTime": {
     "end_time": "2023-04-28T14:04:12.802133Z",
     "start_time": "2023-04-28T14:04:03.939203Z"
    }
   },
   "outputs": [
    {
     "name": "stdout",
     "output_type": "stream",
     "text": [
      "600/600 [==============================] - 9s 14ms/step - loss: 0.1712 - accuracy: 0.9482\n"
     ]
    }
   ],
   "source": [
    "test_loss, test_acc = model.evaluate(X_test, y_test)"
   ]
  },
  {
   "cell_type": "code",
   "execution_count": 15,
   "id": "72afc684",
   "metadata": {
    "ExecuteTime": {
     "end_time": "2023-04-28T14:04:21.570636Z",
     "start_time": "2023-04-28T14:04:12.808940Z"
    }
   },
   "outputs": [
    {
     "name": "stdout",
     "output_type": "stream",
     "text": [
      "600/600 [==============================] - 8s 13ms/step\n"
     ]
    }
   ],
   "source": [
    "y_pred = model.predict(X_test)"
   ]
  },
  {
   "cell_type": "code",
   "execution_count": 16,
   "id": "c379943e",
   "metadata": {
    "ExecuteTime": {
     "end_time": "2023-04-28T14:04:21.583568Z",
     "start_time": "2023-04-28T14:04:21.576737Z"
    }
   },
   "outputs": [],
   "source": [
    "y_pred_classes = np.argmax(y_pred, axis = 1)"
   ]
  },
  {
   "cell_type": "code",
   "execution_count": 17,
   "id": "86140c86",
   "metadata": {
    "ExecuteTime": {
     "end_time": "2023-04-28T14:04:21.597570Z",
     "start_time": "2023-04-28T14:04:21.590375Z"
    }
   },
   "outputs": [],
   "source": [
    "y_true = y_test.astype(int).tolist()"
   ]
  },
  {
   "cell_type": "code",
   "execution_count": 18,
   "id": "c9d64724",
   "metadata": {
    "ExecuteTime": {
     "end_time": "2023-04-28T14:04:21.674684Z",
     "start_time": "2023-04-28T14:04:21.603642Z"
    }
   },
   "outputs": [
    {
     "name": "stdout",
     "output_type": "stream",
     "text": [
      "              precision    recall  f1-score   support\n",
      "\n",
      "           0       0.95      0.99      0.97      1887\n",
      "           1       0.97      0.99      0.98      2119\n",
      "           2       0.94      0.88      0.91      1919\n",
      "           3       0.95      0.95      0.95      2021\n",
      "           4       0.95      0.95      0.95      1882\n",
      "           5       0.95      0.91      0.93      1727\n",
      "           6       0.95      0.96      0.95      1905\n",
      "           7       0.92      0.95      0.94      1965\n",
      "           8       0.96      0.94      0.95      1863\n",
      "           9       0.95      0.95      0.95      1912\n",
      "\n",
      "    accuracy                           0.95     19200\n",
      "   macro avg       0.95      0.95      0.95     19200\n",
      "weighted avg       0.95      0.95      0.95     19200\n",
      "\n"
     ]
    }
   ],
   "source": [
    "confusion = confusion_matrix(y_true, y_pred_classes)\n",
    "print(classification_report(y_true, y_pred_classes))"
   ]
  },
  {
   "cell_type": "code",
   "execution_count": 19,
   "id": "ab4e231c",
   "metadata": {
    "ExecuteTime": {
     "end_time": "2023-04-28T14:04:21.915955Z",
     "start_time": "2023-04-28T14:04:21.684965Z"
    }
   },
   "outputs": [
    {
     "name": "stdout",
     "output_type": "stream",
     "text": [
      "dict_keys(['loss', 'accuracy', 'val_loss', 'val_accuracy'])\n"
     ]
    },
    {
     "data": {
      "image/png": "[encoded data removed]",
      "text/plain": [
       "<Figure size 640x480 with 1 Axes>"
      ]
     },
     "metadata": {},
     "output_type": "display_data"
    }
   ],
   "source": [
    "# list all data in history\n",
    "print(history.history.keys())\n",
    "# summarize history for accuracy\n",
    "plt.plot(history.history['accuracy'])\n",
    "plt.plot(history.history['val_accuracy'])\n",
    "plt.title('model accuracy')\n",
    "plt.ylabel('accuracy')\n",
    "plt.xlabel('epoch')\n",
    "plt.legend(['train', 'test'], loc='upper left')\n",
    "plt.show()"
   ]
  },
  {
   "cell_type": "code",
   "execution_count": 20,
   "id": "846b54e7",
   "metadata": {
    "ExecuteTime": {
     "end_time": "2023-04-28T14:04:21.981588Z",
     "start_time": "2023-04-28T14:04:21.921247Z"
    }
   },
   "outputs": [],
   "source": [
    "# Save the entire model to a HDF5 file\n",
    "model.save(\"modail.h5\")"
   ]
  },
  {
   "cell_type": "code",
   "execution_count": 21,
   "id": "aafad236",
   "metadata": {
    "ExecuteTime": {
     "end_time": "2023-04-28T14:04:23.105618Z",
     "start_time": "2023-04-28T14:04:21.985396Z"
    }
   },
   "outputs": [
    {
     "data": {
      "image/png": "[encoded data removed]",
      "text/plain": [
       "<Figure size 1200x800 with 32 Axes>"
      ]
     },
     "metadata": {},
     "output_type": "display_data"
    }
   ],
   "source": [
    "# Get the weights of the first convolutional layer\n",
    "weights = model.layers[1].get_weights()[0]\n",
    "\n",
    "# Normalize the weights\n",
    "weights = weights - weights.min()\n",
    "weights = weights / weights.max()\n",
    "\n",
    "# Transpose the weight tensor to have the filter index as the first dimension\n",
    "weights = transpose(weights, [3, 0, 1, 2])\n",
    "\n",
    "# Plot the filters\n",
    "n_filters = weights.shape[0]\n",
    "n_columns = 8\n",
    "n_rows = n_filters // n_columns + 1\n",
    "\n",
    "fig = plt.figure(figsize=(12, 8))\n",
    "for i in range(n_filters):\n",
    "    ax = fig.add_subplot(n_rows, n_columns, i + 1)\n",
    "    ax.imshow(weights[i])\n",
    "    ax.axis('off')\n",
    "plt.show()"
   ]
  },
  {
   "cell_type": "code",
   "execution_count": 23,
   "id": "70cf913a",
   "metadata": {
    "ExecuteTime": {
     "end_time": "2023-04-28T14:05:32.380071Z",
     "start_time": "2023-04-28T14:05:31.027696Z"
    }
   },
   "outputs": [
    {
     "data": {
      "image/png": "[encoded data removed]",
      "text/plain": [
       "<Figure size 1200x800 with 32 Axes>"
      ]
     },
     "metadata": {},
     "output_type": "display_data"
    }
   ],
   "source": [
    "from tensorflow.keras.models import Model\n",
    "# Select an input image from the training data\n",
    "x = X_train[0]\n",
    "x = np.expand_dims(x, axis=0)\n",
    "\n",
    "# Get the feature maps of the first convolutional layer\n",
    "layer_name = 'conv2d_3'\n",
    "intermediate_layer_model = Model(inputs=model.input,\n",
    "                                 outputs=model.get_layer(layer_name).output)\n",
    "intermediate_output = intermediate_layer_model(x)\n",
    "\n",
    "# Plot the feature maps\n",
    "n_filters = intermediate_output.shape[-1]\n",
    "n_columns = 8\n",
    "n_rows = n_filters // n_columns + 1\n",
    "\n",
    "fig = plt.figure(figsize=(12, 8))\n",
    "for i in range(n_filters):\n",
    "    ax = fig.add_subplot(n_rows, n_columns, i + 1)\n",
    "    ax.imshow(intermediate_output[0, :, :, i])\n",
    "    ax.axis('off')"
   ]
  },
  {
   "cell_type": "code",
   "execution_count": 26,
   "id": "382beb66",
   "metadata": {
    "ExecuteTime": {
     "end_time": "2023-04-28T14:06:02.896614Z",
     "start_time": "2023-04-28T14:06:01.815171Z"
    }
   },
   "outputs": [
    {
     "data": {
      "image/png": "[encoded data removed]",
      "text/plain": [
       "<Figure size 1200x800 with 32 Axes>"
      ]
     },
     "metadata": {},
     "output_type": "display_data"
    }
   ],
   "source": [
    "# Select an input image from the training data\n",
    "x = X_train[0]\n",
    "x = np.expand_dims(x, axis=0)\n",
    "\n",
    "# Get the feature maps of the first convolutional layer\n",
    "layer_name = 'max_pooling2d_2'\n",
    "intermediate_layer_model = Model(inputs=model.input,\n",
    "                                 outputs=model.get_layer(layer_name).output)\n",
    "intermediate_output = intermediate_layer_model(x)\n",
    "\n",
    "# Plot the feature maps\n",
    "n_filters = intermediate_output.shape[-1]\n",
    "n_columns = 8\n",
    "n_rows = n_filters // n_columns + 1\n",
    "\n",
    "fig = plt.figure(figsize=(12, 8))\n",
    "for i in range(n_filters):\n",
    "    ax = fig.add_subplot(n_rows, n_columns, i + 1)\n",
    "    ax.imshow(intermediate_output[0, :, :, i])\n",
    "    ax.axis('off')"
   ]
  },
  {
   "cell_type": "code",
   "execution_count": null,
   "id": "ebbde6b3",
   "metadata": {
    "ExecuteTime": {
     "end_time": "2023-04-28T14:04:24.994855Z",
     "start_time": "2023-04-28T14:04:24.994817Z"
    }
   },
   "outputs": [],
   "source": [
    "['batch_normalization_7', 'conv2d_21', 'max_pooling2d_20', 'dropout_10', 'conv2d_22', 'max_pooling2d_21', 'conv2d_23', 'dropout_11', 'flatten_7', 'dense_14', 'dense_15']"
   ]
  },
  {
   "cell_type": "code",
   "execution_count": null,
   "id": "3aac84d4",
   "metadata": {},
   "outputs": [],
   "source": []
  }
 ],
 "metadata": {
  "kernelspec": {
   "display_name": "Python 3 (ipykernel)",
   "language": "python",
   "name": "python3"
  },
  "language_info": {
   "codemirror_mode": {
    "name": "ipython",
    "version": 3
   },
   "file_extension": ".py",
   "mimetype": "text/x-python",
   "name": "python",
   "nbconvert_exporter": "python",
   "pygments_lexer": "ipython3",
   "version": "3.8.12"
  },
  "toc": {
   "base_numbering": 1,
   "nav_menu": {},
   "number_sections": true,
   "sideBar": true,
   "skip_h1_title": false,
   "title_cell": "Table of Contents",
   "title_sidebar": "Contents",
   "toc_cell": false,
   "toc_position": {},
   "toc_section_display": true,
   "toc_window_display": false
  },
  "varInspector": {
   "cols": {
    "lenName": 16,
    "lenType": 16,
    "lenVar": 40
   },
   "kernels_config": {
    "python": {
     "delete_cmd_postfix": "",
     "delete_cmd_prefix": "del ",
     "library": "var_list.py",
     "varRefreshCmd": "print(var_dic_list())"
    },
    "r": {
     "delete_cmd_postfix": ") ",
     "delete_cmd_prefix": "rm(",
     "library": "var_list.r",
     "varRefreshCmd": "cat(var_dic_list()) "
    }
   },
   "types_to_exclude": [
    "module",
    "function",
    "builtin_function_or_method",
    "instance",
    "_Feature"
   ],
   "window_display": false
  }
 },
 "nbformat": 4,
 "nbformat_minor": 5
}
